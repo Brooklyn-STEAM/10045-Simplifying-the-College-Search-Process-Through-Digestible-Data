{
 "cells": [
  {
   "cell_type": "code",
   "execution_count": 1,
   "metadata": {},
   "outputs": [],
   "source": [
    "from flask import Flask, render_template, request\n",
    "import pymysql\n",
    "from dynaconf import Dynaconf\n",
    "import flask_login\n",
    "import requests\n",
    "import csv\n",
    "import json\n",
    "import pandas"
   ]
  },
  {
   "cell_type": "code",
   "execution_count": 2,
   "metadata": {},
   "outputs": [],
   "source": [
    "#Database connection\n",
    "conf = Dynaconf(\n",
    "    settings_file = [\"settings.toml\"]\n",
    ")\n",
    "\n",
    "def connect_db():\n",
    "    \"\"\"Connect to the phpMyAdmin database (LOCAL STEAM NETWORK ONLY)\"\"\"\n",
    "    conn = pymysql.connect(\n",
    "        host = \"db.steamcenter.tech\",\n",
    "        database = \"apollo\",\n",
    "        user = conf.user,\n",
    "        password = conf.password,\n",
    "        autocommit = True,\n",
    "        cursorclass = pymysql.cursors.DictCursor\n",
    "    )\n",
    "    return conn"
   ]
  },
  {
   "cell_type": "code",
   "execution_count": 4,
   "metadata": {},
   "outputs": [],
   "source": [
    "def get_data():\n",
    "    colleges = []\n",
    "    for page in range(0,1):\n",
    "        response=requests.get(f\"https://api.data.gov/ed/collegescorecard/v1/schools?api_key=fEZsVdtKgtVU4ODIpjHcP8vDttDK0ftSGZaWDcAk&fields=school.name,latest.cost.attendance.academic_year&page=1&per_page={page}\")\n",
    "\n",
    "        results = response.json()['results']\n",
    "\n",
    "        colleges.extend(results)\n",
    "\n",
    "    for college in colleges:\n",
    "\n",
    "        name=college[\"school.name\"]\n",
    "        tuition=college[\"latest.cost.attendance.academic_year\"]\n",
    "\n",
    "        conn = connect_db()\n",
    "        cursor = conn.cursor()\n",
    "\n",
    "        request.path\n",
    "\n",
    "        cursor.execute(f\"\"\"\n",
    "\n",
    "        INSERT INTO `Colleges` (`name`, `tuition`)\n",
    "        VALUES ('{name}', '{tuition}')\n",
    "\n",
    "        ON\n",
    "                            \n",
    "                            \"\"\")\n",
    "    return"
   ]
  }
 ],
 "metadata": {
  "kernelspec": {
   "display_name": "Python 3",
   "language": "python",
   "name": "python3"
  },
  "language_info": {
   "codemirror_mode": {
    "name": "ipython",
    "version": 3
   },
   "file_extension": ".py",
   "mimetype": "text/x-python",
   "name": "python",
   "nbconvert_exporter": "python",
   "pygments_lexer": "ipython3",
   "version": "3.10.9"
  }
 },
 "nbformat": 4,
 "nbformat_minor": 2
}
